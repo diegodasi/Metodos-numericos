{
 "cells": [
  {
   "cell_type": "markdown",
   "metadata": {},
   "source": [
    "### TAREA 7.5"
   ]
  },
  {
   "cell_type": "markdown",
   "metadata": {},
   "source": [
    "Intente escribir su propia versión del método de Newton, haciéndola lo más rápida posible. Luego compare el tiempo que tarda en resolver el ejemplo de clase (el cero de la función $f(x) = x - \\cos(x)$) con el tiempo que tarda el método de Newton que se encuentra en scipy."
   ]
  },
  {
   "cell_type": "code",
   "execution_count": 124,
   "metadata": {},
   "outputs": [],
   "source": [
    "# Importamos las librerias\n",
    "import numpy as np       \n",
    "import matplotlib as plt                       \n",
    "from scipy import optimize\n",
    "from time import time"
   ]
  },
  {
   "cell_type": "code",
   "execution_count": 125,
   "metadata": {},
   "outputs": [],
   "source": [
    "class MaxIterations(Exception):\n",
    "    pass"
   ]
  },
  {
   "cell_type": "code",
   "execution_count": 126,
   "metadata": {},
   "outputs": [],
   "source": [
    "# Función y su derivada\n",
    "\n",
    "def f(x):        # Función a encontrar su cero\n",
    "    return x - np.cos(x)\n",
    "\n",
    "def df(x):       # Derivada de la función anterior\n",
    "    return 1 + np.sin(x)"
   ]
  },
  {
   "cell_type": "code",
   "execution_count": 127,
   "metadata": {},
   "outputs": [],
   "source": [
    "# Método de Newton visto en clases\n",
    "\n",
    "def newton(f, df, x0, epsilon, N=1000000):  \n",
    "    \n",
    "    for i in range(N):\n",
    "        x = x0 - f(x0)/df(x0)\n",
    "        if abs(x - x0)/abs(x) < epsilon:\n",
    "            return x, i+1\n",
    "        x0 = x\n",
    "    \n",
    "    raise MaxIterations(\"No se encontró el cero luego de\", N, \"iteraciones.\")"
   ]
  },
  {
   "cell_type": "code",
   "execution_count": 128,
   "metadata": {},
   "outputs": [],
   "source": [
    "#  Método de Newton ligeramente modificado\n",
    "\n",
    "def newton1(f, df, x0, epsilon, N=1000000): \n",
    "    \n",
    "    for i in range(N):\n",
    "        x = x0 - f(x0)/df(x0)\n",
    "        if abs((x - x0)/(x)) < epsilon:\n",
    "            return x, i+1\n",
    "        x0 = x\n",
    "    raise MaxIterations(\"No se encontró el cero luego de\", N, \"iteraciones.\")        \n"
   ]
  },
  {
   "cell_type": "code",
   "execution_count": 129,
   "metadata": {},
   "outputs": [],
   "source": [
    "# Método de Newton modificado\n",
    "\n",
    "def newton2(f, df, x0, epsilon):\n",
    "   \n",
    "    if abs(f(x0)) < epsilon:\n",
    "        return x0\n",
    "    else:\n",
    "        return newton2(f, df, x0 - f(x0)/df(x0), epsilon)   "
   ]
  },
  {
   "cell_type": "code",
   "execution_count": 130,
   "metadata": {},
   "outputs": [],
   "source": [
    "# Función que ocuparemos para medir el tiempo\n",
    "\n",
    "def medir_tiempo(func, *args):\n",
    "    \"\"\"\n",
    "     Esta función nos retornara el tiempo que le tomará\n",
    "     a python realizar cierta función con sus argumentos \n",
    "    \"\"\"\n",
    "    t1 = time()\n",
    "    func(*args)\n",
    "    tf = time() - t1\n",
    "    return tf"
   ]
  },
  {
   "cell_type": "markdown",
   "metadata": {},
   "source": [
    "Ahora se comparara el tiempo que tarda python en resolver los ceros de la función: $$f(x) = x - cos(x)$$ con un valor inicial: $$x_0 = 1*10^{15}$$\n",
    "con un epsilon: $$epsilon = 1*10^{-10}$$"
   ]
  },
  {
   "cell_type": "code",
   "execution_count": 145,
   "metadata": {},
   "outputs": [
    {
     "name": "stdout",
     "output_type": "stream",
     "text": [
      "El Método de Newton visto en clases llega al cero: 0.7390851332151607, en 1593 iteraciones y toma 0.011971712112426758 segundos\n",
      "El Método de Newton ligeramente modificado llega al cero: 0.7390851332151607, en 1593 iteraciones y toma 0.011043071746826172 segundos\n",
      "El Método de Newton modificado llega al cero: 0.7390851332151607 y toma 0.01499795913696289 segundos\n",
      "El Método de Newton de scipy llega al cero: 0.7390851332151607 y toma 0.0010020732879638672 segundos\n"
     ]
    }
   ],
   "source": [
    "print(f\"El Método de Newton visto en clases llega al cero: {newton(f, df, 1e15, 1e-10)[0]}, \\\n",
    "en {newton(f, df, 1e15, 1e-10)[1]} iteraciones y toma {medir_tiempo(newton, f, df, 1e15, 1e-10)} segundos\")\n",
    "\n",
    "print(f\"El Método de Newton ligeramente modificado llega al cero: {newton1(f, df, 1e15, 1e-10)[0]}, \\\n",
    "en {newton1(f, df, 1e15, 1e-10)[1]} iteraciones y toma {medir_tiempo(newton1, f, df, 1e15, 1e-10)} segundos\")\n",
    "\n",
    "print(f\"El Método de Newton modificado llega al cero: {newton2(f, df, 1e15, 1e-10)} \\\n",
    "y toma {medir_tiempo(newton2, f, df, 1e15, 1e-10)} segundos\")\n",
    "\n",
    "print(f\"El Método de Newton de scipy llega al cero: {optimize.newton(f, 1e15)} y toma \\\n",
    "{medir_tiempo(optimize.newton, f, 1e15)} segundos\")"
   ]
  }
 ],
 "metadata": {
  "kernelspec": {
   "display_name": "Python 3.8.8 ('base')",
   "language": "python",
   "name": "python3"
  },
  "language_info": {
   "codemirror_mode": {
    "name": "ipython",
    "version": 3
   },
   "file_extension": ".py",
   "mimetype": "text/x-python",
   "name": "python",
   "nbconvert_exporter": "python",
   "pygments_lexer": "ipython3",
   "version": "3.8.8"
  },
  "orig_nbformat": 4,
  "vscode": {
   "interpreter": {
    "hash": "18052bae4473f20c89b27d96e1da14f221ed4842cb51a661aa992a498f11d0d5"
   }
  }
 },
 "nbformat": 4,
 "nbformat_minor": 2
}
