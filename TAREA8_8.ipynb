{
  "cells": [
    {
      "cell_type": "markdown",
      "metadata": {
        "colab_type": "text",
        "id": "view-in-github"
      },
      "source": [
        "<a href=\"https://colab.research.google.com/github/diegodasi/Metodos-numericos-tareas/blob/main/TAREA8_8.ipynb\" target=\"_parent\"><img src=\"https://colab.research.google.com/assets/colab-badge.svg\" alt=\"Open In Colab\"/></a>"
      ]
    },
    {
      "cell_type": "markdown",
      "metadata": {
        "id": "sqrrfDqv3Z3t"
      },
      "source": [
        "## TAREA 8.8"
      ]
    },
    {
      "cell_type": "markdown",
      "metadata": {
        "id": "85TyfO6d3fi7"
      },
      "source": [
        "A partir de la fórmula de tres puntos para la derivada en el extremo, asumiendo que esta tiene un error del tipo\n",
        "\n",
        "$$\n",
        "M = N_1(h) + K_1 h^2 + K_2 h^4 + ...\n",
        "$$\n",
        "\n",
        "use la extrapolación de Richardson para mejorar la aproximación. Escriba un código usando esta nueva fórmula y compárela con las fórmulas a tres y cinco puntos en los extremos introducidas en clase actuando sobre alguna función sencilla y comparando los errores de las tres."
      ]
    },
    {
      "cell_type": "markdown",
      "metadata": {
        "id": "678oTKwV74Ye"
      },
      "source": [
        "si los errores estan dados de la forma:\n",
        "$$\n",
        "M = N_1(h) + K_1 h^2 + K_2 h^4 + ...\n",
        "$$\n",
        "\n",
        "operando se puede obtener una nueva aproximación con un error cuártico\n",
        "\n",
        "$$\n",
        "N_2(h) = \\frac{4N_1(h/2) - N_1(h)}{3}\n",
        "$$\n",
        "\n",
        "se puede proceder de esta forma \n",
        "\n",
        "$$\n",
        "N_j(h) = N_{j - 1}(h/2) + \\frac{N_{j-1}(h/2) - N_{j-1}(h)}{4^{j-1} - 1}\n",
        "$$\n",
        " con j=2 se obtiene el resultado anterior\n",
        "\n"
      ]
    },
    {
      "cell_type": "code",
      "execution_count": 19,
      "metadata": {
        "id": "jIvjvWl73Wpk"
      },
      "outputs": [],
      "source": [
        "import numpy as np  # importamos numpy\n",
        "import matplotlib.pyplot as plt\n",
        "\n",
        "\n",
        "\n",
        "def f(x):           #Definimos la funcion que sera comparada\n",
        "    return np.sin(x)\n",
        "def df(x):          #Derivada de funcióm anterior\n",
        "    return np.cos(x)\n",
        "\n",
        "#Formula de tres puntos para la derivada en el extremo\n",
        "def deriv3p_extremo(f, x, h):\n",
        "    return (-3*f(x) + 4*f(x + h) - f(x + 2*h))/(2*h)\n",
        "\n",
        "#Formula de cinco puntos para la derivada en el extremo\n",
        "def deriv5p_extremo(f, x, h):\n",
        "    return (-25*f(x) + 48*f(x + h) - 36*f(x + 2*h) + 16*f(x + 3*h) - 3*f(x + 4*h))/(12*h)\n",
        "\n",
        "#Extrapolacion de richardson con la formula de tres puntos en los extremos\n",
        "def extrapolacion_Richarson_2n(f,x,h):\n",
        "    m = 4\n",
        "    N = np.zeros((m,m))\n",
        "    for i in range(0,m):\n",
        "        N[i,0] = deriv3p_extremo(f,x,h)\n",
        "        for j in range(1,i+1):\n",
        "            N[i,j] =  N[i,j-1] + (N[i,j-1] - N[i-1,j-1])/(4**j - 1)  #Formula para obtener un error cuadratico\n",
        "        h = h/2\n",
        "    return N\n"
      ]
    },
    {
      "cell_type": "markdown",
      "metadata": {
        "id": "Xn9raQKYEz1A"
      },
      "source": [
        "Vamos a comparar los errores de las 3 formulas que tenemos para encontrar la derivada de la función, definimos un h que no sea tan pequeño para que se note mucho más la comparación.\n",
        "\n",
        "h = 0.1\n",
        "\n",
        "x = 0.5\n",
        "\n",
        "f = sin(x)"
      ]
    },
    {
      "cell_type": "code",
      "execution_count": 33,
      "metadata": {
        "id": "6yheFuih6ZNh"
      },
      "outputs": [],
      "source": [
        "resultado_richardson = extrapolacion_Richarson_2n(f,0.5,0.1) \n",
        "resultado_3p = deriv3p_extremo(f,0.5,0.1)\n",
        "resultado_5p = deriv5p_extremo(f,0.5,0.1)\n",
        "resultado_exacto = df(0.5)"
      ]
    },
    {
      "cell_type": "code",
      "execution_count": 34,
      "metadata": {
        "colab": {
          "base_uri": "https://localhost:8080/"
        },
        "id": "fVo_KFsW0t_J",
        "outputId": "891edd0e-0ab4-497b-e1ab-a455cad6bb6c"
      },
      "outputs": [
        {
          "data": {
            "text/plain": [
              "array([[0.88037795, 0.        , 0.        , 0.        ],\n",
              "       [0.87829827, 0.87760504, 0.        , 0.        ],\n",
              "       [0.87776348, 0.87758522, 0.8775839 , 0.        ],\n",
              "       [0.87762803, 0.87758288, 0.87758273, 0.87758271]])"
            ]
          },
          "execution_count": 34,
          "metadata": {},
          "output_type": "execute_result"
        }
      ],
      "source": [
        "resultado_richardson"
      ]
    },
    {
      "cell_type": "code",
      "execution_count": 36,
      "metadata": {
        "colab": {
          "base_uri": "https://localhost:8080/"
        },
        "id": "YO1S66G4xJBz",
        "outputId": "94c8471a-e3a7-420e-f081-5ec8daa9bfde"
      },
      "outputs": [
        {
          "data": {
            "text/plain": [
              "0.8803779526492073"
            ]
          },
          "execution_count": 36,
          "metadata": {},
          "output_type": "execute_result"
        }
      ],
      "source": [
        "resultado_3p"
      ]
    },
    {
      "cell_type": "code",
      "execution_count": 38,
      "metadata": {
        "colab": {
          "base_uri": "https://localhost:8080/"
        },
        "id": "23XhLjjExb8C",
        "outputId": "ea816791-bf7e-45d9-99b7-341c515637c2"
      },
      "outputs": [
        {
          "data": {
            "text/plain": [
              "0.8775668690080509"
            ]
          },
          "execution_count": 38,
          "metadata": {},
          "output_type": "execute_result"
        }
      ],
      "source": [
        "resultado_5p"
      ]
    },
    {
      "cell_type": "code",
      "execution_count": 39,
      "metadata": {
        "colab": {
          "base_uri": "https://localhost:8080/"
        },
        "id": "mo5L2bdJxecH",
        "outputId": "3b5be392-18cf-46a4-e2b8-72e2059a8a91"
      },
      "outputs": [
        {
          "data": {
            "text/plain": [
              "0.8775825618903728"
            ]
          },
          "execution_count": 39,
          "metadata": {},
          "output_type": "execute_result"
        }
      ],
      "source": [
        "resultado_exacto"
      ]
    },
    {
      "cell_type": "code",
      "execution_count": 42,
      "metadata": {
        "colab": {
          "base_uri": "https://localhost:8080/"
        },
        "id": "0sdUbl6txi-R",
        "outputId": "f81c7ed0-e5a5-4b7c-cb37-a328f5e27daf"
      },
      "outputs": [
        {
          "name": "stdout",
          "output_type": "stream",
          "text": [
            "1.4800168424145e-07\n",
            "0.002795390758834504\n",
            "1.5692882321838297e-05\n"
          ]
        }
      ],
      "source": [
        "#Comparamos ahora restando el resultado aproximado con el resultado exacto\n",
        "error_richardson = abs(resultado_richardson[-1][-1] - resultado_exacto) #llamamos al último termino de la matriz de richardson que es el más exacto \n",
        "error_3p = abs(resultado_3p - resultado_exacto)\n",
        "error_5p = abs(resultado_5p - resultado_exacto)\n",
        "print(error_richardson)\n",
        "print(error_3p)\n",
        "print(error_5p)\n"
      ]
    },
    {
      "cell_type": "markdown",
      "metadata": {
        "id": "swBdKSTRzJX3"
      },
      "source": [
        "Por los resultados dado se puede ver que el método que tiene mucho menos error es la extrapolación de richardson que es del orden de $10^{-7}$, le sigue la derivada de 5 puntos en los extremos con un error del orden de $10^{-5}$ y por último esta la derivada de 3 puntos en los extremos con un error del orden de $10^{-3}$\n",
        "\n",
        "\n"
      ]
    },
    {
      "cell_type": "markdown",
      "metadata": {},
      "source": [
        "# Calificación: 7.0"
      ]
    },
    {
      "cell_type": "markdown",
      "metadata": {},
      "source": []
    }
  ],
  "metadata": {
    "colab": {
      "authorship_tag": "ABX9TyNoDt/iTsHli83wT5vsgfs+",
      "include_colab_link": true,
      "provenance": []
    },
    "kernelspec": {
      "display_name": "Python 3",
      "language": "python",
      "name": "python3"
    },
    "language_info": {
      "name": "python",
      "version": "3.10.6 (main, Nov  2 2022, 18:53:38) [GCC 11.3.0]"
    },
    "vscode": {
      "interpreter": {
        "hash": "916dbcbb3f70747c44a77c7bcd40155683ae19c65e1c03b4aa3499c5328201f1"
      }
    }
  },
  "nbformat": 4,
  "nbformat_minor": 0
}
