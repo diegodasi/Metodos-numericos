{
 "cells": [
  {
   "cell_type": "markdown",
   "metadata": {},
   "source": [
    "TAREA 2.2\n",
    "\n",
    "Escriba un código que tome un array producido con np.zeros(100) y produzca el mismo resultado que la función np.linspace(0.1,10,100), sin usar esa función."
   ]
  },
  {
   "cell_type": "code",
   "execution_count": 6,
   "metadata": {},
   "outputs": [
    {
     "name": "stdout",
     "output_type": "stream",
     "text": [
      "[ 0.1  0.2  0.3  0.4  0.5  0.6  0.7  0.8  0.9  1.   1.1  1.2  1.3  1.4\n",
      "  1.5  1.6  1.7  1.8  1.9  2.   2.1  2.2  2.3  2.4  2.5  2.6  2.7  2.8\n",
      "  2.9  3.   3.1  3.2  3.3  3.4  3.5  3.6  3.7  3.8  3.9  4.   4.1  4.2\n",
      "  4.3  4.4  4.5  4.6  4.7  4.8  4.9  5.   5.1  5.2  5.3  5.4  5.5  5.6\n",
      "  5.7  5.8  5.9  6.   6.1  6.2  6.3  6.4  6.5  6.6  6.7  6.8  6.9  7.\n",
      "  7.1  7.2  7.3  7.4  7.5  7.6  7.7  7.8  7.9  8.   8.1  8.2  8.3  8.4\n",
      "  8.5  8.6  8.7  8.8  8.9  9.   9.1  9.2  9.3  9.4  9.5  9.6  9.7  9.8\n",
      "  9.9 10. ]\n"
     ]
    }
   ],
   "source": [
    "# la funcion np.linspace(0.1,10,100) contiene una lista de 100 elementos: desde 0.1 hasta 10, sumando 0,1 a cada elemento\n",
    "# la funcion np.zeros(n) contiene n candidad de ceros\n",
    "# se creara un arreglo que le sume 0.1 a cada elemento de np.zeros(100) para igual el resultado pedido\n",
    "import numpy as np   # importamos numpy\n",
    "\n",
    "\n",
    "arreglo = np.zeros(100)   # creamos nuestro arreglo (array)\n",
    "\n",
    "x = 0.1                   # variable que printeara los valores en cada elemento del arreglo \n",
    "elemento = 0              # acumulador // \n",
    "\n",
    "for i in arreglo:         # con el ciclo for haremos una suma a cada elemento de nuestro arreglo\n",
    "  arreglo[elemento] = x   # designamos nuestra variable x a cada elemento de nuestro arreglo para la sumatoria\n",
    "  x += 0.1                # x ira actualizando su valor \n",
    "  elemento += 1           # con esto x actualizara su valor uno a uno en cada elemento de la lista\n",
    "print(arreglo)            # imprimimos nuestro arreglo"
   ]
  }
 ],
 "metadata": {
  "kernelspec": {
   "display_name": "Python 3.8.8 ('base')",
   "language": "python",
   "name": "python3"
  },
  "language_info": {
   "codemirror_mode": {
    "name": "ipython",
    "version": 3
   },
   "file_extension": ".py",
   "mimetype": "text/x-python",
   "name": "python",
   "nbconvert_exporter": "python",
   "pygments_lexer": "ipython3",
   "version": "3.8.8"
  },
  "orig_nbformat": 4,
  "vscode": {
   "interpreter": {
    "hash": "18052bae4473f20c89b27d96e1da14f221ed4842cb51a661aa992a498f11d0d5"
   }
  }
 },
 "nbformat": 4,
 "nbformat_minor": 2
}
