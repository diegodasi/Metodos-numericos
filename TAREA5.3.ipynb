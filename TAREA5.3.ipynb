{
 "cells": [
  {
   "cell_type": "markdown",
   "metadata": {},
   "source": [
    "# TAREA 5.3"
   ]
  },
  {
   "cell_type": "markdown",
   "metadata": {},
   "source": [
    "Se lanza un dado cargado, con probabilidades de $\\{0.1, 0.2, 0.2, 0.3, 0.1, 0.1\\}$ de obtener $\\{1, 2, 3, 4, 5, 6\\}$ respectivamente. Sea $N$ el resultado obtenido al lanzar el dado, luego de lo cual se lanza una moneda $N$ veces. Encuentre la probabilidad condicional de que $N$ sea impar dado que se obtuvo al menos una cara."
   ]
  },
  {
   "cell_type": "markdown",
   "metadata": {},
   "source": []
  },
  {
   "cell_type": "markdown",
   "metadata": {},
   "source": [
    "La probabilidad condicional viene dada por\n",
    "$$\n",
    "P(A|B) = \\frac{P(AB)}{P(B)}\n",
    "$$"
   ]
  },
  {
   "cell_type": "code",
   "execution_count": 12,
   "metadata": {},
   "outputs": [],
   "source": [
    "# Definimos nuestras probabilidades de nuestro dado\n",
    "prob_1 = 0.1\n",
    "prob_2 = 0.2\n",
    "prob_3 = 0.2\n",
    "prob_4 = 0.3\n",
    "prob_5 = 0.1\n",
    "prob_6 = 0.1"
   ]
  },
  {
   "cell_type": "markdown",
   "metadata": {},
   "source": [
    "La propabilidad de obtener al menos una cara viene dado por\n",
    "$$\n",
    "1 - (\\frac {1} {2^N})\n",
    "$$"
   ]
  },
  {
   "cell_type": "code",
   "execution_count": 13,
   "metadata": {},
   "outputs": [],
   "source": [
    "# Como necesitamos los numeros impares tomaremos valores para N = 1,3,5\n",
    "\n",
    "prob_cara_1 = 1 - 1/2**1\n",
    "prob_cara_3 = 1 - 1/2**3\n",
    "prob_cara_5 = 1 - 1/2**5"
   ]
  },
  {
   "cell_type": "markdown",
   "metadata": {},
   "source": [
    "La probabilidad de obtener impar y al menos una cara es:"
   ]
  },
  {
   "cell_type": "code",
   "execution_count": 14,
   "metadata": {},
   "outputs": [],
   "source": [
    "# Probabilidad de obtener impar y al menos una cara \n",
    "\n",
    "prob_impar_cara = prob_1*prob_cara_1 + prob_3*prob_cara_3 + prob_5*prob_cara_5\n"
   ]
  },
  {
   "cell_type": "markdown",
   "metadata": {},
   "source": [
    "El número total de combinaciones es:\n",
    "$$\n",
    "2^1 + 2^2 + 2^3 + 2^4 + 2^5 + 2^6 = 126\n",
    "$$\n",
    "Hay 6 combinaciones que son solo sellos por lo que nuestro universo de probabilidades nos queda:\n",
    "$$\n",
    "\\frac {120} {126}\n",
    "$$ \n"
   ]
  },
  {
   "cell_type": "code",
   "execution_count": 15,
   "metadata": {},
   "outputs": [],
   "source": [
    "# Probabilidad de obtener al menos una cara\n",
    "prob_total_almenos1cara = 120 / 126"
   ]
  },
  {
   "cell_type": "markdown",
   "metadata": {},
   "source": [
    "Remplazando en la probabilidad condicional \n",
    "$$\n",
    "P(I|C) = \\frac{P(IC)}{P(C)}\n",
    "$$\n",
    "El resultado es:"
   ]
  },
  {
   "cell_type": "code",
   "execution_count": 16,
   "metadata": {},
   "outputs": [
    {
     "data": {
      "text/plain": [
       "0.33796875000000004"
      ]
     },
     "execution_count": 16,
     "metadata": {},
     "output_type": "execute_result"
    }
   ],
   "source": [
    "# Probabilidad condicional de obtener un impar dado que se obtuvo almenos una cara \n",
    "prob_cond = prob_impar_cara / prob_total_almenos1cara\n",
    "\n",
    "prob_cond # Resultado final\n"
   ]
  }
 ],
 "metadata": {
  "kernelspec": {
   "display_name": "Python 3.8.8 ('base')",
   "language": "python",
   "name": "python3"
  },
  "language_info": {
   "codemirror_mode": {
    "name": "ipython",
    "version": 3
   },
   "file_extension": ".py",
   "mimetype": "text/x-python",
   "name": "python",
   "nbconvert_exporter": "python",
   "pygments_lexer": "ipython3",
   "version": "3.8.8"
  },
  "orig_nbformat": 4,
  "vscode": {
   "interpreter": {
    "hash": "18052bae4473f20c89b27d96e1da14f221ed4842cb51a661aa992a498f11d0d5"
   }
  }
 },
 "nbformat": 4,
 "nbformat_minor": 2
}
