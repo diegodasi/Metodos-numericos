{
 "cells": [
  {
   "cell_type": "markdown",
   "metadata": {
    "id": "Wo9ilQsemZ0i"
   },
   "source": [
    "TAREA 4.4\n",
    "\n",
    "Queremos calcular $x^3$. ¿Es más rápido calcular x\\*x\\*x o x\\*\\*3?\n",
    "\n",
    "El problema es que Python calcula ambas operaciones muy rápido y es imposible decidir cuál es mejor.\n",
    "\n",
    "Para hacerlo podemos realizar la operación muchas veces y ver cuánto tarda. \n",
    "\n",
    "Modifique la función medir_tiempo para que admita un argumento adicional que sea el número de veces que se evalúa la función. Úsela para medir cuál es más rápido entre x\\*x\\*x o x\\*\\*3.\n"
   ]
  },
  {
   "cell_type": "code",
   "execution_count": 276,
   "metadata": {
    "id": "kWz4eOQ4Un-p"
   },
   "outputs": [],
   "source": [
    "# con este módulo nos permitira colocar \" decoradores \"\n",
    "# time_ns es el tiempo medido en nanosegundos\n",
    "\n",
    "from time import time_ns\n",
    "\n",
    "def medir_tiempons(func, *args):\n",
    "    \"\"\" Esta función nos retornara el tiempo\n",
    "    que le tomara a python en realizar cierta funcion \n",
    "    con sus respectivos argumentos que le demos \"\"\"\n",
    "    t1 = time_ns()\n",
    "    func(*args)\n",
    "    tf = time_ns() - t1\n",
    "    return tf\n",
    "\n",
    "\n",
    "   "
   ]
  },
  {
   "cell_type": "code",
   "execution_count": 368,
   "metadata": {
    "colab": {
     "base_uri": "https://localhost:8080/"
    },
    "id": "sNFaCPSNX21Q",
    "outputId": "6bb2bfec-9575-4489-ff41-f62d4fdb33a3"
   },
   "outputs": [
    {
     "data": {
      "text/plain": [
       "4572"
      ]
     },
     "execution_count": 368,
     "metadata": {},
     "output_type": "execute_result"
    }
   ],
   "source": [
    "def mult(x, veces):\n",
    "    \n",
    "    \"\"\" Definimos una función multiplicación, para que cierto número\n",
    "    se multiplique una cierta cantidad de veces; serán los argumentos\n",
    "    que nosotros le daremos, en nustro caso queremos que el numero se\n",
    "    multiplique a si mismo 3 veces\"\"\"\n",
    "    \n",
    "    resultado = x\n",
    "    for i in range(veces):\n",
    "        resultado *= x\n",
    "    return resultado\n",
    "\n",
    "# medimos el tiempo que le tomo a la multiplicación\n",
    "# le entregamos argumentos, que el 9999999 se multiplique 3 veces\n",
    "medir_tiempons(mult, 9999999, 3)\n"
   ]
  },
  {
   "cell_type": "code",
   "execution_count": 369,
   "metadata": {
    "colab": {
     "base_uri": "https://localhost:8080/"
    },
    "id": "tym8eTXZXo0K",
    "outputId": "8fe18a78-57df-408f-943b-d9f018744dd5"
   },
   "outputs": [
    {
     "data": {
      "text/plain": [
       "4659"
      ]
     },
     "execution_count": 369,
     "metadata": {},
     "output_type": "execute_result"
    }
   ],
   "source": [
    "def potencia(base, exponente):\n",
    "\n",
    "    \"\"\" Definimos una función potencia, nos permitira calcular\n",
    "    la potencia de un número, los argumento que le entregaremos\n",
    "    seran los mismos de la función multiplicación para poder comparar\"\"\"\n",
    "  \n",
    "    resultado1 = 1\n",
    "    for i in range(exponente):\n",
    "        resultado1 *= base\n",
    "    return resultado1 \n",
    "# medimos el tiempo que le tomo a la potencia \n",
    "# le entregamos argumentos, que el 9999999 se eleve a 3\n",
    "medir_tiempons(potencia, 9999999, 3)"
   ]
  },
  {
   "cell_type": "markdown",
   "metadata": {
    "id": "pDBmWCeTlPCH"
   },
   "source": [
    "Como conclusion final después de haber comparado varias veces, puedo decir que para mi caso es más rápido calcular $x^3$ de la manera x\\*x\\*x antes que x\\*\\*3\n",
    "por una diferencia my mínima "
   ]
  },
  {
   "cell_type": "markdown",
   "metadata": {},
   "source": [
    "# Calificacion: 7.0"
   ]
  }
 ],
 "metadata": {
  "colab": {
   "provenance": []
  },
  "kernelspec": {
   "display_name": "Python 3",
   "language": "python",
   "name": "python3"
  },
  "language_info": {
   "codemirror_mode": {
    "name": "ipython",
    "version": 3
   },
   "file_extension": ".py",
   "mimetype": "text/x-python",
   "name": "python",
   "nbconvert_exporter": "python",
   "pygments_lexer": "ipython3",
   "version": "3.8.3"
  },
  "toc": {
   "base_numbering": 1,
   "nav_menu": {},
   "number_sections": true,
   "sideBar": true,
   "skip_h1_title": false,
   "title_cell": "Table of Contents",
   "title_sidebar": "Contents",
   "toc_cell": false,
   "toc_position": {},
   "toc_section_display": true,
   "toc_window_display": false
  }
 },
 "nbformat": 4,
 "nbformat_minor": 1
}
