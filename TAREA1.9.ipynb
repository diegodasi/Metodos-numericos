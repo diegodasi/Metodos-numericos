{
 "cells": [
  {
   "cell_type": "markdown",
   "metadata": {},
   "source": [
    "TAREA 1 (1.9)        \n",
    "\n",
    "Escriba un código que resuelva la sigueinte sumatoria:\n",
    "\n",
    "$$\n",
    "\\sum_{n=0}^{100} \\sum_{m=0}^{n} \\left(0.3^n\\right)^m\n",
    "$$\n"
   ]
  },
  {
   "cell_type": "code",
   "execution_count": 6,
   "metadata": {},
   "outputs": [
    {
     "name": "stdout",
     "output_type": "stream",
     "text": [
      "n = 100\n",
      "Resultado primera sumatoria: 101.4374927610005\n",
      "Resultado final: 0\n"
     ]
    }
   ],
   "source": [
    "# Para resolver la doble sumatoria la realizaremos de adentro hacia afuera \n",
    "# m es el contador de la primera sumatoria la cual depende de n y la segunda sumatoria debe cumplir que n sea menor o igual a 100\n",
    "# dicho esto la doble sumatoria dependera de n el cual sera el numero que ingresemos\n",
    "\n",
    "# Nro de terminos  a sumar\n",
    "n = int(input(\"n = \")) \n",
    "\n",
    "# Acumulador\n",
    "s = 0    # s = primera sumatoria     # inicializar\n",
    "sum = 0  # sum = suma total\n",
    "\n",
    "# Hacemos la suma\n",
    "for m in range(0,n+1):     # Realizamos primera sumatoria\n",
    "    s = s + ((0.3**n)**m)  \n",
    "\n",
    "for n in range(0,101):    # Realizamos segunda sumatoria\n",
    "    sum = sum + s         # actualizamos el valor de s\n",
    "\n",
    "\n",
    "if n > 100:\n",
    "  print(\"Error: el numero ingresado no puede ser mayor a 100\")\n",
    "\n",
    "else:\n",
    "  print(\"Resultado primera sumatoria:\", s) # imprimimos el valor de s\n",
    "  print(\"Resultado final:\", sum)  # imprimimos el resultado final"
   ]
  },
  {
   "cell_type": "markdown",
   "metadata": {},
   "source": [
    "# Calificacion: 4.5\n",
    "\n",
    "El valor de n va de 0 hasta 100, mientras que el valor de m de la segunda sumatoria va desde 0 hasta n, por lo cual en realidad teniamos una sumatoria dentro de otra, en total con $\\frac{100(100-1)}{2}$ terminanos sumados. El ciclo que tienes de 0 hasta n+1 esta bien , el problema esta en que el segundo ciclo for deberia haber estado anidado dentro de este para realizar la otra sumatoria, como se muestra a continuacion:\n"
   ]
  },
  {
   "cell_type": "code",
   "execution_count": 4,
   "metadata": {
    "scrolled": true
   },
   "outputs": [
    {
     "name": "stdout",
     "output_type": "stream",
     "text": [
      "101.4374927610005\n"
     ]
    }
   ],
   "source": [
    "s = 0;\n",
    "for n in range(0,101):\n",
    "    for m in range(0,n+1):\n",
    "        s+=(0.3)**(n*m)\n",
    "print(s)"
   ]
  }
 ],
 "metadata": {
  "kernelspec": {
   "display_name": "Python 3",
   "language": "python",
   "name": "python3"
  },
  "language_info": {
   "codemirror_mode": {
    "name": "ipython",
    "version": 3
   },
   "file_extension": ".py",
   "mimetype": "text/x-python",
   "name": "python",
   "nbconvert_exporter": "python",
   "pygments_lexer": "ipython3",
   "version": "3.8.3"
  },
  "toc": {
   "base_numbering": 1,
   "nav_menu": {},
   "number_sections": true,
   "sideBar": true,
   "skip_h1_title": false,
   "title_cell": "Table of Contents",
   "title_sidebar": "Contents",
   "toc_cell": false,
   "toc_position": {},
   "toc_section_display": true,
   "toc_window_display": false
  },
  "vscode": {
   "interpreter": {
    "hash": "18052bae4473f20c89b27d96e1da14f221ed4842cb51a661aa992a498f11d0d5"
   }
  }
 },
 "nbformat": 4,
 "nbformat_minor": 2
}
